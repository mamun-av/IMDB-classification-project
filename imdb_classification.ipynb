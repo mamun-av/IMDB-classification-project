{
 "cells": [
  {
   "cell_type": "code",
   "execution_count": 15,
   "metadata": {},
   "outputs": [
    {
     "data": {
      "text/plain": [
       "16"
      ]
     },
     "execution_count": 15,
     "metadata": {},
     "output_type": "execute_result"
    }
   ],
   "source": [
    "import pandas as pd\n",
    "import numpy as np\n",
    "from sklearn.preprocessing import StandardScaler\n",
    "from sklearn.preprocessing import MinMaxScaler\n",
    "from sklearn.neighbors import KNeighborsClassifier\n",
    "from sklearn.linear_model import LogisticRegression\n",
    "from sklearn.model_selection import train_test_split\n",
    "import matplotlib.pyplot as plt\n",
    "from collections import Counter\n",
    "import seaborn as sns\n",
    "\n",
    "data = pd.read_csv(\"D:/Code/imdb_project/movie_metadata.csv\")\n",
    "data = data.dropna()\n",
    "data.drop_duplicates(keep='first', inplace = True)\n",
    "data[\"country\"] = data[\"country\"].replace({\"USA\": 1, \"UK\": 2})\n",
    "data[\"country\"] = data[\"country\"].apply(lambda x: 0 if x != 1 and x != 2 else x)\n",
    "data = data.drop([\"color\",\"director_name\",\"actor_2_name\", \"genres\", \"actor_1_name\",\"movie_title\",\"content_rating\",\"language\",\n",
    "                 \"plot_keywords\", \"movie_imdb_link\",\"actor_3_name\",\"aspect_ratio\"], axis = 1)\n",
    "zcount = {}\n",
    "for column in data.columns:\n",
    "    zcount[column] = (Counter(sorted(data[column]))[0])\n",
    "zcount.pop('country')\n",
    "temp = []\n",
    "for key in zcount.keys():\n",
    "    if zcount[key] != 0:\n",
    "        temp.append(key)\n",
    "for col in temp:\n",
    "    data[col] = data[col].replace({0.0:data[col].mean()})\n",
    "len(data.columns)\n"
   ]
  },
  {
   "cell_type": "code",
   "execution_count": null,
   "metadata": {},
   "outputs": [],
   "source": [
    "corr = data.corr()\n",
    "ax = sns.heatmap(\n",
    "    corr, \n",
    "    vmin=-1, vmax=1, center=0,\n",
    "    cmap=sns.diverging_palette(20, 220, n=200),\n",
    "    square=True\n",
    ")\n",
    "ax.set_xticklabels(\n",
    "    ax.get_xticklabels(),\n",
    "    rotation=45,\n",
    "    horizontalalignment='right'\n",
    ");"
   ]
  },
  {
   "cell_type": "code",
   "execution_count": 16,
   "metadata": {},
   "outputs": [
    {
     "data": {
      "text/plain": [
       "13"
      ]
     },
     "execution_count": 16,
     "metadata": {},
     "output_type": "execute_result"
    }
   ],
   "source": [
    "data[\"other_actor_facebook_likes\"] = data[\"actor_3_facebook_likes\"] + data[\"actor_2_facebook_likes\"]\n",
    "data[\"review_ratio\"] = data[\"num_critic_for_reviews\"] / data[\"num_user_for_reviews\"]\n",
    "data[\"label\"] = data[\"imdb_score\"].apply(lambda x: 1 if x>7 else 0)\n",
    "data = data.drop([\"cast_total_facebook_likes\",\"actor_3_facebook_likes\",\n",
    "                  \"actor_2_facebook_likes\",\"num_critic_for_reviews\",\"num_user_for_reviews\", \"imdb_score\"], axis = 1)\n",
    "\n",
    "len(data.columns)"
   ]
  },
  {
   "cell_type": "code",
   "execution_count": null,
   "metadata": {},
   "outputs": [],
   "source": [
    "corr = data.corr()\n",
    "ax = sns.heatmap(\n",
    "    corr, \n",
    "    vmin=-1, vmax=1, center=0,\n",
    "    cmap=sns.diverging_palette(20, 220, n=200),\n",
    "    square=True\n",
    ")\n",
    "ax.set_xticklabels(\n",
    "    ax.get_xticklabels(),\n",
    "    rotation=45,\n",
    "    horizontalalignment='right'\n",
    ");"
   ]
  },
  {
   "cell_type": "code",
   "execution_count": 17,
   "metadata": {},
   "outputs": [
    {
     "data": {
      "text/plain": [
       "13"
      ]
     },
     "execution_count": 17,
     "metadata": {},
     "output_type": "execute_result"
    }
   ],
   "source": [
    "data.columns\n",
    "df = data[['title_year','country','duration', 'budget','gross',\n",
    "          'review_ratio','num_voted_users','facenumber_in_poster','movie_facebook_likes',\n",
    "          'director_facebook_likes','actor_1_facebook_likes','other_actor_facebook_likes',\n",
    "          'label']]\n",
    "len(df.columns)"
   ]
  },
  {
   "cell_type": "code",
   "execution_count": 18,
   "metadata": {},
   "outputs": [],
   "source": [
    "feature = df.iloc[:,:len(df.columns)-1].values\n",
    "label = df[\"label\"].values\n",
    "\n",
    "scaler = StandardScaler()\n",
    "scaler.fit(feature)\n",
    "X = scaler.transform(feature)\n",
    "y = label\n",
    "scaler.mean_\n",
    "scaler.scale_\n",
    "x_train, x_test, y_train, y_test = train_test_split(X, y, train_size = 0.8, test_size = 0.2, random_state = 5)"
   ]
  },
  {
   "cell_type": "code",
   "execution_count": 24,
   "metadata": {},
   "outputs": [
    {
     "name": "stdout",
     "output_type": "stream",
     "text": [
      "0.7946308724832215\n"
     ]
    }
   ],
   "source": [
    "from sklearn.discriminant_analysis import LinearDiscriminantAnalysis\n",
    "\n",
    "classifier = LinearDiscriminantAnalysis()\n",
    "classifier.fit(x_train, y_train)\n",
    "print(classifier.score(x_test, y_test))"
   ]
  },
  {
   "cell_type": "code",
   "execution_count": 19,
   "metadata": {},
   "outputs": [
    {
     "name": "stdout",
     "output_type": "stream",
     "text": [
      "k = 6 with 0.8214765100671141\n"
     ]
    }
   ],
   "source": [
    "score = []\n",
    "accuracy = []\n",
    "for k in range(1, 100):\n",
    "    classifier = KNeighborsClassifier(n_neighbors = k, weights = \"distance\")\n",
    "    classifier.fit(x_train, y_train)\n",
    "    score.append(classifier.score(x_test, y_test))\n",
    "print(f'k = {score.index(max(score))} with {max(score)}')"
   ]
  },
  {
   "cell_type": "code",
   "execution_count": 20,
   "metadata": {},
   "outputs": [
    {
     "name": "stdout",
     "output_type": "stream",
     "text": [
      "0.8053691275167785\n"
     ]
    }
   ],
   "source": [
    "classifier = LogisticRegression()\n",
    "classifier.fit(x_train, y_train)\n",
    "#print(classifier.score(x_train, y_train))\n",
    "print(classifier.score(x_test, y_test))"
   ]
  },
  {
   "cell_type": "code",
   "execution_count": 21,
   "metadata": {},
   "outputs": [
    {
     "name": "stdout",
     "output_type": "stream",
     "text": [
      "0.8241610738255034\n"
     ]
    }
   ],
   "source": [
    "from sklearn.svm import SVC\n",
    "classifier = SVC()\n",
    "classifier.fit(x_train, y_train)\n",
    "print(classifier.score(x_test, y_test))"
   ]
  },
  {
   "cell_type": "code",
   "execution_count": 32,
   "metadata": {},
   "outputs": [
    {
     "data": {
      "text/plain": [
       "0.774496644295302"
      ]
     },
     "execution_count": 32,
     "metadata": {},
     "output_type": "execute_result"
    }
   ],
   "source": [
    "from sklearn.tree import DecisionTreeClassifier\n",
    "\n",
    "tree_model = DecisionTreeClassifier()\n",
    "tree_model.fit(x_train, y_train)\n",
    "tree_model.score(x_test, y_test)\n"
   ]
  },
  {
   "cell_type": "code",
   "execution_count": 35,
   "metadata": {},
   "outputs": [
    {
     "data": {
      "text/plain": [
       "0.8456375838926175"
      ]
     },
     "execution_count": 35,
     "metadata": {},
     "output_type": "execute_result"
    }
   ],
   "source": [
    "from sklearn.ensemble import RandomForestClassifier\n",
    "from sklearn.model_selection import GridSearchCV\n",
    "\n",
    "parameters = {\"n_estimators\":(100, 200, 300, 400), \"criterion\":(\"gini\", \"entropy\"), \n",
    "              \"max_depth\":(100,200,300), \"min_samples_split\":(100,200)}\n",
    "classifier= RandomForestClassifier()\n",
    "    #criterion = 'entropy', max_depth= 200, min_samples_split= 100, n_estimators= 100)\n",
    "#model = GridSearchCV(classifier, parameters)\n",
    "#model.fit(x_train, y_train)\n",
    "#model.best_params_\n",
    "classifier.fit(x_train, y_train)\n",
    "accuracy_score(y_test,classifier.predict(x_test))"
   ]
  }
 ],
 "metadata": {
  "kernelspec": {
   "display_name": "Python 3",
   "language": "python",
   "name": "python3"
  },
  "language_info": {
   "codemirror_mode": {
    "name": "ipython",
    "version": 3
   },
   "file_extension": ".py",
   "mimetype": "text/x-python",
   "name": "python",
   "nbconvert_exporter": "python",
   "pygments_lexer": "ipython3",
   "version": "3.7.6"
  }
 },
 "nbformat": 4,
 "nbformat_minor": 4
}
