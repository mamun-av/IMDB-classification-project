{
 "cells": [
  {
   "cell_type": "code",
   "execution_count": 1,
   "metadata": {},
   "outputs": [
    {
     "name": "stdout",
     "output_type": "stream",
     "text": [
      "5043\n",
      "color                         object\n",
      "director_name                 object\n",
      "num_critic_for_reviews       float64\n",
      "duration                     float64\n",
      "director_facebook_likes      float64\n",
      "actor_3_facebook_likes       float64\n",
      "actor_2_name                  object\n",
      "actor_1_facebook_likes       float64\n",
      "gross                        float64\n",
      "genres                        object\n",
      "actor_1_name                  object\n",
      "movie_title                   object\n",
      "num_voted_users                int64\n",
      "cast_total_facebook_likes      int64\n",
      "actor_3_name                  object\n",
      "facenumber_in_poster         float64\n",
      "plot_keywords                 object\n",
      "movie_imdb_link               object\n",
      "num_user_for_reviews         float64\n",
      "language                      object\n",
      "country                       object\n",
      "content_rating                object\n",
      "budget                       float64\n",
      "title_year                   float64\n",
      "actor_2_facebook_likes       float64\n",
      "imdb_score                   float64\n",
      "aspect_ratio                 float64\n",
      "movie_facebook_likes           int64\n",
      "dtype: object\n"
     ]
    },
    {
     "data": {
      "text/plain": [
       "(5043, 28)"
      ]
     },
     "execution_count": 1,
     "metadata": {},
     "output_type": "execute_result"
    }
   ],
   "source": [
    "import pandas as pd\n",
    "import re\n",
    "import numpy as np\n",
    "from sklearn.preprocessing import StandardScaler\n",
    "from sklearn.preprocessing import MinMaxScaler\n",
    "from sklearn.neighbors import KNeighborsClassifier\n",
    "from sklearn.linear_model import LogisticRegression\n",
    "from sklearn.model_selection import train_test_split\n",
    "from sklearn.metrics import accuracy_score\n",
    "import matplotlib.pyplot as plt\n",
    "from collections import Counter\n",
    "import seaborn as sns\n",
    "\n",
    "data = pd.read_csv(\"movie_metadata.csv\")\n",
    "print(len(data))\n",
    "print(data.dtypes)\n",
    "data.shape"
   ]
  },
  {
   "cell_type": "markdown",
   "metadata": {},
   "source": [
    "Data desciption: Our initial data have 5043 row with 28 columns with types described as above."
   ]
  },
  {
   "cell_type": "markdown",
   "metadata": {},
   "source": [
    "I. Cleaning data:\n",
    "    1. Remove duplicates:"
   ]
  },
  {
   "cell_type": "code",
   "execution_count": 2,
   "metadata": {
    "scrolled": true
   },
   "outputs": [
    {
     "data": {
      "text/plain": [
       "4998"
      ]
     },
     "execution_count": 2,
     "metadata": {},
     "output_type": "execute_result"
    }
   ],
   "source": [
    "data.drop_duplicates(keep='first', inplace = True)\n",
    "data = data.reset_index(drop=True)\n",
    "len(data)"
   ]
  },
  {
   "cell_type": "markdown",
   "metadata": {},
   "source": [
    "There are 45 duplicate row that are removed from the dataset. The new data contains 4998 entries,    "
   ]
  },
  {
   "cell_type": "markdown",
   "metadata": {},
   "source": [
    "  2. Separte movie genres:\n",
    "This column contains genres of movie. A movie can be tagged with different genres, therefore, we need to process the data in this column first."
   ]
  },
  {
   "cell_type": "code",
   "execution_count": 3,
   "metadata": {},
   "outputs": [
    {
     "data": {
      "text/plain": [
       "0    Action|Adventure|Fantasy|Sci-Fi\n",
       "1           Action|Adventure|Fantasy\n",
       "2          Action|Adventure|Thriller\n",
       "3                    Action|Thriller\n",
       "4                        Documentary\n",
       "Name: genres, dtype: object"
      ]
     },
     "execution_count": 3,
     "metadata": {},
     "output_type": "execute_result"
    }
   ],
   "source": [
    "data[\"genres\"].head()"
   ]
  },
  {
   "cell_type": "code",
   "execution_count": 4,
   "metadata": {},
   "outputs": [
    {
     "name": "stdout",
     "output_type": "stream",
     "text": [
      "26\n"
     ]
    },
    {
     "data": {
      "text/plain": [
       "Counter({'Action': 1143,\n",
       "         'Adventure': 914,\n",
       "         'Fantasy': 604,\n",
       "         'Sci-Fi': 611,\n",
       "         'Thriller': 1396,\n",
       "         'Documentary': 121,\n",
       "         'Romance': 1098,\n",
       "         'Animation': 242,\n",
       "         'Comedy': 1862,\n",
       "         'Family': 544,\n",
       "         'Musical': 132,\n",
       "         'Mystery': 493,\n",
       "         'Western': 94,\n",
       "         'Drama': 2571,\n",
       "         'History': 205,\n",
       "         'Sport': 181,\n",
       "         'Crime': 883,\n",
       "         'Horror': 556,\n",
       "         'War': 211,\n",
       "         'Biography': 292,\n",
       "         'Music': 212,\n",
       "         'Game-Show': 1,\n",
       "         'Reality-TV': 2,\n",
       "         'News': 3,\n",
       "         'Short': 5,\n",
       "         'Film-Noir': 6})"
      ]
     },
     "execution_count": 4,
     "metadata": {},
     "output_type": "execute_result"
    }
   ],
   "source": [
    "list_genres = []\n",
    "for cell in data[\"genres\"]:\n",
    "    list_genres+=cell.split(\"|\")\n",
    "genres_count = Counter(list_genres)\n",
    "print(len(genres_count))\n",
    "genres_count"
   ]
  },
  {
   "cell_type": "markdown",
   "metadata": {},
   "source": [
    "Based on the result, we have total of 26 movie genres in this dataset. However, we need to combine \"Music\" and \"Musical\" into one genre. We also remove \"Reality-TV\", \"Game-Show\" and \"News\" as they are not really a catergory of movie."
   ]
  },
  {
   "cell_type": "code",
   "execution_count": 5,
   "metadata": {},
   "outputs": [
    {
     "name": "stdout",
     "output_type": "stream",
     "text": [
      "22\n"
     ]
    },
    {
     "data": {
      "text/plain": [
       "Counter({'Action': 1143,\n",
       "         'Adventure': 914,\n",
       "         'Fantasy': 604,\n",
       "         'Sci-Fi': 611,\n",
       "         'Thriller': 1396,\n",
       "         'Documentary': 121,\n",
       "         'Romance': 1098,\n",
       "         'Animation': 242,\n",
       "         'Comedy': 1862,\n",
       "         'Family': 544,\n",
       "         'Mystery': 493,\n",
       "         'Western': 94,\n",
       "         'Drama': 2571,\n",
       "         'History': 205,\n",
       "         'Sport': 181,\n",
       "         'Crime': 883,\n",
       "         'Horror': 556,\n",
       "         'War': 211,\n",
       "         'Biography': 292,\n",
       "         'Music': 344,\n",
       "         'Short': 5,\n",
       "         'Film-Noir': 6})"
      ]
     },
     "execution_count": 5,
     "metadata": {},
     "output_type": "execute_result"
    }
   ],
   "source": [
    "genres_count[\"Music\"] = genres_count[\"Music\"] + genres_count[\"Musical\"]\n",
    "removal_list = [\"Musical\", \"Reality-TV\",\"Game-Show\",\"News\"]\n",
    "for key in removal_list:\n",
    "    genres_count.pop(key)\n",
    "print(len(genres_count))\n",
    "genres_count"
   ]
  },
  {
   "cell_type": "markdown",
   "metadata": {},
   "source": [
    "We now have 22 genres. Let's plot mean IMDB score of each genre."
   ]
  },
  {
   "cell_type": "code",
   "execution_count": 6,
   "metadata": {},
   "outputs": [
    {
     "data": {
      "image/png": "[encoded data removed]",
      "text/plain": [
       "<Figure size 432x288 with 1 Axes>"
      ]
     },
     "metadata": {
      "needs_background": "light"
     },
     "output_type": "display_data"
    }
   ],
   "source": [
    "genres_imdb = {}\n",
    "for genre in genres_count.keys():\n",
    "    score = 0\n",
    "    for i in range(len(data)):\n",
    "        if genre in data[\"genres\"][i]:\n",
    "            score += data[\"imdb_score\"][i]\n",
    "            \n",
    "    genres_imdb[genre] =score\n",
    "genres_mean = {}    \n",
    "for genre in genres_count.keys():    \n",
    "    genres_mean[genre] = genres_imdb[genre]/genres_count[genre]\n",
    "\n",
    "plt.bar(range(len(genres_mean)), genres_mean.values(), align='center')\n",
    "plt.show()"
   ]
  },
  {
   "cell_type": "markdown",
   "metadata": {},
   "source": [
    "There is not much difference between genres. Almost all the mean are in range of 6 - 8. Therefore, the genres column can be removed from the dataframe as it does not relate to the IMDB score."
   ]
  },
  {
   "cell_type": "code",
   "execution_count": 7,
   "metadata": {},
   "outputs": [
    {
     "data": {
      "text/html": [
       "<div>\n",
       "<style scoped>\n",
       "    .dataframe tbody tr th:only-of-type {\n",
       "        vertical-align: middle;\n",
       "    }\n",
       "\n",
       "    .dataframe tbody tr th {\n",
       "        vertical-align: top;\n",
       "    }\n",
       "\n",
       "    .dataframe thead th {\n",
       "        text-align: right;\n",
       "    }\n",
       "</style>\n",
       "<table border=\"1\" class=\"dataframe\">\n",
       "  <thead>\n",
       "    <tr style=\"text-align: right;\">\n",
       "      <th></th>\n",
       "      <th>num_critic_for_reviews</th>\n",
       "      <th>duration</th>\n",
       "      <th>director_facebook_likes</th>\n",
       "      <th>actor_3_facebook_likes</th>\n",
       "      <th>actor_1_facebook_likes</th>\n",
       "      <th>gross</th>\n",
       "      <th>num_voted_users</th>\n",
       "      <th>cast_total_facebook_likes</th>\n",
       "      <th>facenumber_in_poster</th>\n",
       "      <th>num_user_for_reviews</th>\n",
       "      <th>budget</th>\n",
       "      <th>title_year</th>\n",
       "      <th>actor_2_facebook_likes</th>\n",
       "      <th>imdb_score</th>\n",
       "      <th>aspect_ratio</th>\n",
       "      <th>movie_facebook_likes</th>\n",
       "    </tr>\n",
       "  </thead>\n",
       "  <tbody>\n",
       "    <tr>\n",
       "      <th>count</th>\n",
       "      <td>4949.000000</td>\n",
       "      <td>4983.000000</td>\n",
       "      <td>4895.000000</td>\n",
       "      <td>4975.000000</td>\n",
       "      <td>4991.000000</td>\n",
       "      <td>4.124000e+03</td>\n",
       "      <td>4.998000e+03</td>\n",
       "      <td>4998.000000</td>\n",
       "      <td>4985.000000</td>\n",
       "      <td>4977.000000</td>\n",
       "      <td>4.511000e+03</td>\n",
       "      <td>4891.000000</td>\n",
       "      <td>4985.000000</td>\n",
       "      <td>4998.000000</td>\n",
       "      <td>4671.000000</td>\n",
       "      <td>4998.000000</td>\n",
       "    </tr>\n",
       "    <tr>\n",
       "      <th>mean</th>\n",
       "      <td>139.890079</td>\n",
       "      <td>107.213325</td>\n",
       "      <td>688.679060</td>\n",
       "      <td>639.900905</td>\n",
       "      <td>6556.939892</td>\n",
       "      <td>4.832565e+07</td>\n",
       "      <td>8.347020e+04</td>\n",
       "      <td>9676.941176</td>\n",
       "      <td>1.368907</td>\n",
       "      <td>272.014667</td>\n",
       "      <td>3.974787e+07</td>\n",
       "      <td>2002.468820</td>\n",
       "      <td>1642.998796</td>\n",
       "      <td>6.441056</td>\n",
       "      <td>2.221417</td>\n",
       "      <td>7487.430172</td>\n",
       "    </tr>\n",
       "    <tr>\n",
       "      <th>std</th>\n",
       "      <td>121.477586</td>\n",
       "      <td>25.248775</td>\n",
       "      <td>2821.649616</td>\n",
       "      <td>1643.298282</td>\n",
       "      <td>15061.586700</td>\n",
       "      <td>6.796483e+07</td>\n",
       "      <td>1.380866e+05</td>\n",
       "      <td>18165.404578</td>\n",
       "      <td>2.014623</td>\n",
       "      <td>377.776210</td>\n",
       "      <td>2.069689e+08</td>\n",
       "      <td>12.475235</td>\n",
       "      <td>4030.925303</td>\n",
       "      <td>1.124107</td>\n",
       "      <td>1.391185</td>\n",
       "      <td>19290.726563</td>\n",
       "    </tr>\n",
       "    <tr>\n",
       "      <th>min</th>\n",
       "      <td>1.000000</td>\n",
       "      <td>7.000000</td>\n",
       "      <td>0.000000</td>\n",
       "      <td>0.000000</td>\n",
       "      <td>0.000000</td>\n",
       "      <td>1.620000e+02</td>\n",
       "      <td>5.000000e+00</td>\n",
       "      <td>0.000000</td>\n",
       "      <td>0.000000</td>\n",
       "      <td>1.000000</td>\n",
       "      <td>2.180000e+02</td>\n",
       "      <td>1916.000000</td>\n",
       "      <td>0.000000</td>\n",
       "      <td>1.600000</td>\n",
       "      <td>1.180000</td>\n",
       "      <td>0.000000</td>\n",
       "    </tr>\n",
       "    <tr>\n",
       "      <th>25%</th>\n",
       "      <td>50.000000</td>\n",
       "      <td>93.000000</td>\n",
       "      <td>7.000000</td>\n",
       "      <td>133.000000</td>\n",
       "      <td>611.500000</td>\n",
       "      <td>5.304835e+06</td>\n",
       "      <td>8.560000e+03</td>\n",
       "      <td>1405.500000</td>\n",
       "      <td>0.000000</td>\n",
       "      <td>64.000000</td>\n",
       "      <td>6.000000e+06</td>\n",
       "      <td>1999.000000</td>\n",
       "      <td>280.000000</td>\n",
       "      <td>5.800000</td>\n",
       "      <td>1.850000</td>\n",
       "      <td>0.000000</td>\n",
       "    </tr>\n",
       "    <tr>\n",
       "      <th>50%</th>\n",
       "      <td>110.000000</td>\n",
       "      <td>103.000000</td>\n",
       "      <td>49.000000</td>\n",
       "      <td>369.000000</td>\n",
       "      <td>984.000000</td>\n",
       "      <td>2.544575e+07</td>\n",
       "      <td>3.426050e+04</td>\n",
       "      <td>3085.500000</td>\n",
       "      <td>1.000000</td>\n",
       "      <td>156.000000</td>\n",
       "      <td>2.000000e+07</td>\n",
       "      <td>2005.000000</td>\n",
       "      <td>595.000000</td>\n",
       "      <td>6.600000</td>\n",
       "      <td>2.350000</td>\n",
       "      <td>162.500000</td>\n",
       "    </tr>\n",
       "    <tr>\n",
       "      <th>75%</th>\n",
       "      <td>195.000000</td>\n",
       "      <td>118.000000</td>\n",
       "      <td>192.000000</td>\n",
       "      <td>635.000000</td>\n",
       "      <td>11000.000000</td>\n",
       "      <td>6.231942e+07</td>\n",
       "      <td>9.612075e+04</td>\n",
       "      <td>13740.500000</td>\n",
       "      <td>2.000000</td>\n",
       "      <td>324.000000</td>\n",
       "      <td>4.500000e+07</td>\n",
       "      <td>2011.000000</td>\n",
       "      <td>917.000000</td>\n",
       "      <td>7.200000</td>\n",
       "      <td>2.350000</td>\n",
       "      <td>3000.000000</td>\n",
       "    </tr>\n",
       "    <tr>\n",
       "      <th>max</th>\n",
       "      <td>813.000000</td>\n",
       "      <td>511.000000</td>\n",
       "      <td>23000.000000</td>\n",
       "      <td>23000.000000</td>\n",
       "      <td>640000.000000</td>\n",
       "      <td>7.605058e+08</td>\n",
       "      <td>1.689764e+06</td>\n",
       "      <td>656730.000000</td>\n",
       "      <td>43.000000</td>\n",
       "      <td>5060.000000</td>\n",
       "      <td>1.221550e+10</td>\n",
       "      <td>2016.000000</td>\n",
       "      <td>137000.000000</td>\n",
       "      <td>9.500000</td>\n",
       "      <td>16.000000</td>\n",
       "      <td>349000.000000</td>\n",
       "    </tr>\n",
       "  </tbody>\n",
       "</table>\n",
       "</div>"
      ],
      "text/plain": [
       "       num_critic_for_reviews     duration  director_facebook_likes  \\\n",
       "count             4949.000000  4983.000000              4895.000000   \n",
       "mean               139.890079   107.213325               688.679060   \n",
       "std                121.477586    25.248775              2821.649616   \n",
       "min                  1.000000     7.000000                 0.000000   \n",
       "25%                 50.000000    93.000000                 7.000000   \n",
       "50%                110.000000   103.000000                49.000000   \n",
       "75%                195.000000   118.000000               192.000000   \n",
       "max                813.000000   511.000000             23000.000000   \n",
       "\n",
       "       actor_3_facebook_likes  actor_1_facebook_likes         gross  \\\n",
       "count             4975.000000             4991.000000  4.124000e+03   \n",
       "mean               639.900905             6556.939892  4.832565e+07   \n",
       "std               1643.298282            15061.586700  6.796483e+07   \n",
       "min                  0.000000                0.000000  1.620000e+02   \n",
       "25%                133.000000              611.500000  5.304835e+06   \n",
       "50%                369.000000              984.000000  2.544575e+07   \n",
       "75%                635.000000            11000.000000  6.231942e+07   \n",
       "max              23000.000000           640000.000000  7.605058e+08   \n",
       "\n",
       "       num_voted_users  cast_total_facebook_likes  facenumber_in_poster  \\\n",
       "count     4.998000e+03                4998.000000           4985.000000   \n",
       "mean      8.347020e+04                9676.941176              1.368907   \n",
       "std       1.380866e+05               18165.404578              2.014623   \n",
       "min       5.000000e+00                   0.000000              0.000000   \n",
       "25%       8.560000e+03                1405.500000              0.000000   \n",
       "50%       3.426050e+04                3085.500000              1.000000   \n",
       "75%       9.612075e+04               13740.500000              2.000000   \n",
       "max       1.689764e+06              656730.000000             43.000000   \n",
       "\n",
       "       num_user_for_reviews        budget   title_year  \\\n",
       "count           4977.000000  4.511000e+03  4891.000000   \n",
       "mean             272.014667  3.974787e+07  2002.468820   \n",
       "std              377.776210  2.069689e+08    12.475235   \n",
       "min                1.000000  2.180000e+02  1916.000000   \n",
       "25%               64.000000  6.000000e+06  1999.000000   \n",
       "50%              156.000000  2.000000e+07  2005.000000   \n",
       "75%              324.000000  4.500000e+07  2011.000000   \n",
       "max             5060.000000  1.221550e+10  2016.000000   \n",
       "\n",
       "       actor_2_facebook_likes   imdb_score  aspect_ratio  movie_facebook_likes  \n",
       "count             4985.000000  4998.000000   4671.000000           4998.000000  \n",
       "mean              1642.998796     6.441056      2.221417           7487.430172  \n",
       "std               4030.925303     1.124107      1.391185          19290.726563  \n",
       "min                  0.000000     1.600000      1.180000              0.000000  \n",
       "25%                280.000000     5.800000      1.850000              0.000000  \n",
       "50%                595.000000     6.600000      2.350000            162.500000  \n",
       "75%                917.000000     7.200000      2.350000           3000.000000  \n",
       "max             137000.000000     9.500000     16.000000         349000.000000  "
      ]
     },
     "execution_count": 7,
     "metadata": {},
     "output_type": "execute_result"
    }
   ],
   "source": [
    "data = data.drop([\"genres\"], axis = 1)\n",
    "data.describe()"
   ]
  },
  {
   "cell_type": "markdown",
   "metadata": {},
   "source": [
    "    3. Missing value:\n",
    "As in above table, the number of value count for each column are not the same, which indicates that there are several rows those are missing some of value we have to handle."
   ]
  },
  {
   "cell_type": "code",
   "execution_count": 8,
   "metadata": {},
   "outputs": [
    {
     "data": {
      "text/plain": [
       "gross                        874\n",
       "budget                       487\n",
       "aspect_ratio                 327\n",
       "content_rating               301\n",
       "plot_keywords                152\n",
       "title_year                   107\n",
       "director_name                103\n",
       "director_facebook_likes      103\n",
       "num_critic_for_reviews        49\n",
       "actor_3_name                  23\n",
       "actor_3_facebook_likes        23\n",
       "num_user_for_reviews          21\n",
       "color                         19\n",
       "duration                      15\n",
       "facenumber_in_poster          13\n",
       "actor_2_name                  13\n",
       "actor_2_facebook_likes        13\n",
       "language                      12\n",
       "actor_1_name                   7\n",
       "actor_1_facebook_likes         7\n",
       "country                        5\n",
       "cast_total_facebook_likes      0\n",
       "num_voted_users                0\n",
       "movie_title                    0\n",
       "movie_imdb_link                0\n",
       "imdb_score                     0\n",
       "movie_facebook_likes           0\n",
       "dtype: int64"
      ]
     },
     "execution_count": 8,
     "metadata": {},
     "output_type": "execute_result"
    }
   ],
   "source": [
    "data.isnull().sum(axis = 0).sort_values(ascending=False)"
   ]
  },
  {
   "cell_type": "code",
   "execution_count": 9,
   "metadata": {},
   "outputs": [
    {
     "data": {
      "text/plain": [
       "<matplotlib.axes._subplots.AxesSubplot at 0x231035f7c48>"
      ]
     },
     "execution_count": 9,
     "metadata": {},
     "output_type": "execute_result"
    },
    {
     "data": {
      "image/png": "[encoded data removed]",
      "text/plain": [
       "<Figure size 432x288 with 1 Axes>"
      ]
     },
     "metadata": {
      "needs_background": "light"
     },
     "output_type": "display_data"
    }
   ],
   "source": [
    "sns.heatmap(data.isnull(), cbar=False)"
   ]
  },
  {
   "cell_type": "markdown",
   "metadata": {},
   "source": [
    "As we can see, \"budget\" and \"gross\" are columns with the most number of missing value. However, we can't either remove these two columns due the logically relation with the IMDB score or replace the missing values with mean of column. Therefore, the best solution is to remove rows with missing value."
   ]
  },
  {
   "cell_type": "code",
   "execution_count": 10,
   "metadata": {},
   "outputs": [
    {
     "name": "stdout",
     "output_type": "stream",
     "text": [
      "3857\n"
     ]
    }
   ],
   "source": [
    "data = data.dropna(subset = [\"budget\", \"gross\"]).reset_index(drop = True)\n",
    "print(len(data))"
   ]
  },
  {
   "cell_type": "markdown",
   "metadata": {},
   "source": [
    "The dataset has 3857 entries which is 77% of initial dataset. Let's take a look at other columns with missing values"
   ]
  },
  {
   "cell_type": "code",
   "execution_count": 11,
   "metadata": {},
   "outputs": [
    {
     "data": {
      "text/plain": [
       "aspect_ratio                 74\n",
       "content_rating               51\n",
       "plot_keywords                31\n",
       "actor_3_name                 10\n",
       "actor_3_facebook_likes       10\n",
       "facenumber_in_poster          6\n",
       "actor_2_facebook_likes        5\n",
       "actor_2_name                  5\n",
       "actor_1_facebook_likes        3\n",
       "actor_1_name                  3\n",
       "language                      3\n",
       "color                         2\n",
       "duration                      1\n",
       "num_critic_for_reviews        1\n",
       "movie_imdb_link               0\n",
       "num_user_for_reviews          0\n",
       "cast_total_facebook_likes     0\n",
       "num_voted_users               0\n",
       "movie_title                   0\n",
       "country                       0\n",
       "gross                         0\n",
       "budget                        0\n",
       "title_year                    0\n",
       "imdb_score                    0\n",
       "director_facebook_likes       0\n",
       "director_name                 0\n",
       "movie_facebook_likes          0\n",
       "dtype: int64"
      ]
     },
     "execution_count": 11,
     "metadata": {},
     "output_type": "execute_result"
    }
   ],
   "source": [
    "data.isnull().sum(axis = 0).sort_values(ascending=False)"
   ]
  },
  {
   "cell_type": "markdown",
   "metadata": {},
   "source": [
    "Before trying to impute the missing values, we want to measure how important three variables: aspect_ratio, content_rating, and plot_keywords which have the most missing value in the current dataset."
   ]
  },
  {
   "cell_type": "code",
   "execution_count": 12,
   "metadata": {},
   "outputs": [
    {
     "name": "stdout",
     "output_type": "stream",
     "text": [
      "Counter({2.35: 1995, 1.85: 1600, 1.37: 50, 1.78: 41, 1.66: 40, 1.33: 19, 2.39: 11, 2.2: 10, 2.0: 3, 2.4: 3, 2.76: 3, 1.75: 2, 2.24: 1, 1.5: 1, 1.77: 1, nan: 1, nan: 1, nan: 1, nan: 1, nan: 1, 1.18: 1, nan: 1, nan: 1, nan: 1, nan: 1, nan: 1, nan: 1, nan: 1, nan: 1, nan: 1, nan: 1, nan: 1, nan: 1, nan: 1, nan: 1, nan: 1, nan: 1, nan: 1, 2.55: 1, nan: 1, nan: 1, nan: 1, nan: 1, nan: 1, nan: 1, nan: 1, nan: 1, nan: 1, nan: 1, nan: 1, nan: 1, nan: 1, nan: 1, nan: 1, nan: 1, nan: 1, nan: 1, nan: 1, nan: 1, nan: 1, nan: 1, nan: 1, nan: 1, nan: 1, nan: 1, nan: 1, nan: 1, nan: 1, nan: 1, nan: 1, nan: 1, 16.0: 1, nan: 1, nan: 1, nan: 1, nan: 1, nan: 1, nan: 1, nan: 1, nan: 1, nan: 1, nan: 1, nan: 1, nan: 1, nan: 1, nan: 1, nan: 1, nan: 1, nan: 1, nan: 1, nan: 1, nan: 1})\n"
     ]
    }
   ],
   "source": [
    "print(Counter(data[\"aspect_ratio\"]))"
   ]
  },
  {
   "cell_type": "markdown",
   "metadata": {},
   "source": [
    "the most common ratio are 2.35 and 1.85. To measure the importance of this variable, we will divide this variable into 3 groups:\n",
    "- group 1 is 2.35\n",
    "- group 2 is 1.85\n",
    "- group 0 is other ratio\n",
    "\n",
    "First we will replace missing value with 0 and then we will calculate the mean of IMDB score for each group."
   ]
  },
  {
   "cell_type": "code",
   "execution_count": 13,
   "metadata": {},
   "outputs": [
    {
     "data": {
      "text/html": [
       "<div>\n",
       "<style scoped>\n",
       "    .dataframe tbody tr th:only-of-type {\n",
       "        vertical-align: middle;\n",
       "    }\n",
       "\n",
       "    .dataframe tbody tr th {\n",
       "        vertical-align: top;\n",
       "    }\n",
       "\n",
       "    .dataframe thead th {\n",
       "        text-align: right;\n",
       "    }\n",
       "</style>\n",
       "<table border=\"1\" class=\"dataframe\">\n",
       "  <thead>\n",
       "    <tr style=\"text-align: right;\">\n",
       "      <th></th>\n",
       "      <th>imdb_score</th>\n",
       "    </tr>\n",
       "    <tr>\n",
       "      <th>aspect_ratio</th>\n",
       "      <th></th>\n",
       "    </tr>\n",
       "  </thead>\n",
       "  <tbody>\n",
       "    <tr>\n",
       "      <th>0.0</th>\n",
       "      <td>6.675290</td>\n",
       "    </tr>\n",
       "    <tr>\n",
       "      <th>1.0</th>\n",
       "      <td>6.508471</td>\n",
       "    </tr>\n",
       "    <tr>\n",
       "      <th>2.0</th>\n",
       "      <td>6.374049</td>\n",
       "    </tr>\n",
       "  </tbody>\n",
       "</table>\n",
       "</div>"
      ],
      "text/plain": [
       "              imdb_score\n",
       "aspect_ratio            \n",
       "0.0             6.675290\n",
       "1.0             6.508471\n",
       "2.0             6.374049"
      ]
     },
     "execution_count": 13,
     "metadata": {},
     "output_type": "execute_result"
    }
   ],
   "source": [
    "#create a copy dataframe with only \"aspect_ratio\" and \"imdb_score\" for evaluation\n",
    "temp_data = data[[\"aspect_ratio\", \"imdb_score\"]].copy()\n",
    "#fill n/a value, catergorize into 3 groups and calculate mean of each group\n",
    "temp_data.loc[:,\"aspect_ratio\"] = temp_data.loc[:,\"aspect_ratio\"].fillna(0)\n",
    "temp_data.loc[:,\"aspect_ratio\"] = temp_data.loc[:,\"aspect_ratio\"].replace({2.35:1,1.85:2})\n",
    "temp_data.loc[:,\"aspect_ratio\"] = temp_data.loc[:,\"aspect_ratio\"].apply(lambda x: 0 if x!=1 and x != 2 else x)\n",
    "temp_data.groupby(\"aspect_ratio\").mean()"
   ]
  },
  {
   "cell_type": "markdown",
   "metadata": {},
   "source": [
    "There is no significant different between these groups, therefore removing this variable won't affect the further analyzes"
   ]
  },
  {
   "cell_type": "code",
   "execution_count": 14,
   "metadata": {},
   "outputs": [],
   "source": [
    "data = data.drop([\"aspect_ratio\"], axis = 1)"
   ]
  },
  {
   "cell_type": "markdown",
   "metadata": {},
   "source": [
    "We further remove \"plot_keywords\" columns as it is considered as not related to the IMDB score analyze due to its diveristy."
   ]
  },
  {
   "cell_type": "code",
   "execution_count": 15,
   "metadata": {},
   "outputs": [],
   "source": [
    "data = data.drop([\"plot_keywords\"], axis = 1)"
   ]
  },
  {
   "cell_type": "markdown",
   "metadata": {},
   "source": [
    "The last column with many missing values is \"content_rating\". We will examize its data"
   ]
  },
  {
   "cell_type": "code",
   "execution_count": 16,
   "metadata": {},
   "outputs": [
    {
     "data": {
      "text/plain": [
       "Counter({'PG-13': 1314,\n",
       "         'PG': 573,\n",
       "         'G': 91,\n",
       "         'R': 1723,\n",
       "         'Approved': 17,\n",
       "         'NC-17': 6,\n",
       "         nan: 51,\n",
       "         'X': 10,\n",
       "         'Not Rated': 42,\n",
       "         'Unrated': 24,\n",
       "         'M': 2,\n",
       "         'GP': 1,\n",
       "         'Passed': 3})"
      ]
     },
     "execution_count": 16,
     "metadata": {},
     "output_type": "execute_result"
    }
   ],
   "source": [
    "Counter(data[\"content_rating\"])"
   ]
  },
  {
   "cell_type": "markdown",
   "metadata": {},
   "source": [
    "According to the rating system nowadays, it includes 5 ratings: PG-13, PG, NC-17, G, R. Therefore, we need to replace some old ratings with the new ones as following:\n",
    "- M = GP = PG\n",
    "- X = NC-17\n",
    "- other ungrouped ratings such as: “Approved”, “Not Rated”, “Passed”, “Unrated” will be grouped as R\n",
    "- There is no suitable replacement for missing value for this column, therefore these rows will be remove from the dataset"
   ]
  },
  {
   "cell_type": "code",
   "execution_count": 17,
   "metadata": {},
   "outputs": [
    {
     "name": "stdout",
     "output_type": "stream",
     "text": [
      "3806\n"
     ]
    }
   ],
   "source": [
    "#Remove rows with missing values\n",
    "data = data.dropna(subset = [\"content_rating\"]).reset_index(drop = True)\n",
    "print(len(data))"
   ]
  },
  {
   "cell_type": "markdown",
   "metadata": {},
   "source": [
    "We dropped 51 rows"
   ]
  },
  {
   "cell_type": "code",
   "execution_count": 18,
   "metadata": {},
   "outputs": [
    {
     "data": {
      "text/plain": [
       "Counter({'PG-13': 1314, 'PG': 576, 'G': 91, 'R': 1809, 'NC-17': 16})"
      ]
     },
     "execution_count": 18,
     "metadata": {},
     "output_type": "execute_result"
    }
   ],
   "source": [
    "data[\"content_rating\"] = data[\"content_rating\"].replace({\"M\":\"PG\",\"GP\":\"PG\", \n",
    "                                                         \"X\":\"NC-17\",\n",
    "                                                         \"Approved\":\"R\",\"Not Rated\":\"R\",\"Passed\":\"R\", \"Unrated\":\"R\"})\n",
    "Counter(data[\"content_rating\"])"
   ]
  },
  {
   "cell_type": "markdown",
   "metadata": {},
   "source": [
    "We have only 5 rating now. Let's replace them with numerical values:\n",
    "- PG-13: 0\n",
    "- PG: 1\n",
    "- G: 2\n",
    "- R: 3\n",
    "- NC-17: 4"
   ]
  },
  {
   "cell_type": "code",
   "execution_count": 19,
   "metadata": {},
   "outputs": [],
   "source": [
    "data[\"content_rating\"] = data[\"content_rating\"].replace({\"PG-13\": 0,\"PG\": 1,\"G\": 2,\"R\": 3,\"NC-17\": 4})"
   ]
  },
  {
   "cell_type": "markdown",
   "metadata": {},
   "source": [
    "    4. Removing unrelated columns\n",
    "Is \"Color\" column relates to the IDMB score?"
   ]
  },
  {
   "cell_type": "code",
   "execution_count": 20,
   "metadata": {},
   "outputs": [
    {
     "data": {
      "text/plain": [
       "Counter({'Color': 3680, ' Black and White': 124, nan: 2})"
      ]
     },
     "execution_count": 20,
     "metadata": {},
     "output_type": "execute_result"
    }
   ],
   "source": [
    "Counter(data[\"color\"])"
   ]
  },
  {
   "cell_type": "markdown",
   "metadata": {},
   "source": [
    "96% of this column is color which indicates that this variable is nearly constant. Therefore, removing it will not affect the analyzing result."
   ]
  },
  {
   "cell_type": "code",
   "execution_count": 21,
   "metadata": {},
   "outputs": [],
   "source": [
    "data = data.drop([\"color\"], axis = 1)"
   ]
  },
  {
   "cell_type": "markdown",
   "metadata": {},
   "source": [
    "Other columns with diverve values those are not useful for IDMB classification such as: \"movie_title\", \"director_name\", \"actor_1_name\", \"actor_2_name\", \"actor_3_name\" and \"movie_imdb_link\" will be removed from the dataset."
   ]
  },
  {
   "cell_type": "code",
   "execution_count": 22,
   "metadata": {},
   "outputs": [
    {
     "name": "stdout",
     "output_type": "stream",
     "text": [
      "number of unique director name: 1709\n",
      "number of unique actor 1 name: 1473\n",
      "number of unique actor 2 name: 2246\n",
      "number of unique actor 3 name: 2646\n"
     ]
    }
   ],
   "source": [
    "print(f'number of unique director name: {data[\"director_name\"].nunique()}')\n",
    "print(f'number of unique actor 1 name: {data[\"actor_1_name\"].nunique()}')\n",
    "print(f'number of unique actor 2 name: {data[\"actor_2_name\"].nunique()}')\n",
    "print(f'number of unique actor 3 name: {data[\"actor_3_name\"].nunique()}')"
   ]
  },
  {
   "cell_type": "code",
   "execution_count": 23,
   "metadata": {},
   "outputs": [],
   "source": [
    "data = data.drop([\"movie_title\",\"director_name\", \"actor_1_name\", \"actor_2_name\", \"actor_3_name\", \"movie_imdb_link\"], axis = 1)"
   ]
  },
  {
   "cell_type": "markdown",
   "metadata": {},
   "source": [
    "We next examine the columns \"language\" and \"country\":"
   ]
  },
  {
   "cell_type": "code",
   "execution_count": 24,
   "metadata": {},
   "outputs": [
    {
     "name": "stdout",
     "output_type": "stream",
     "text": [
      "Counter({'English': 3644, 'French': 34, 'Spanish': 24, 'Mandarin': 14, 'German': 11, 'Japanese': 10, 'Cantonese': 7, 'Italian': 7, 'Korean': 5, 'Hindi': 5, 'Portuguese': 5, 'Norwegian': 4, 'Dutch': 3, 'Thai': 3, 'Danish': 3, 'Persian': 3, 'Aboriginal': 2, 'Dari': 2, nan: 2, 'Hebrew': 2, 'Indonesian': 2, 'Filipino': 1, 'Maya': 1, 'Kazakh': 1, 'Aramaic': 1, 'Mongolian': 1, 'Bosnian': 1, 'Hungarian': 1, 'Czech': 1, 'Russian': 1, 'None': 1, 'Zulu': 1, 'Arabic': 1, 'Vietnamese': 1, 'Romanian': 1})\n"
     ]
    }
   ],
   "source": [
    "print(Counter(data[\"language\"]))"
   ]
  },
  {
   "cell_type": "markdown",
   "metadata": {},
   "source": [
    "95% of movie are in English, therefore, this variable is nearly constant. Let's remove it."
   ]
  },
  {
   "cell_type": "code",
   "execution_count": 25,
   "metadata": {},
   "outputs": [],
   "source": [
    "data = data.drop([\"language\"], axis = 1)"
   ]
  },
  {
   "cell_type": "code",
   "execution_count": 26,
   "metadata": {},
   "outputs": [
    {
     "name": "stdout",
     "output_type": "stream",
     "text": [
      "[('USA', 3025), ('UK', 316), ('France', 103), ('Germany', 79), ('Canada', 63), ('Australia', 40), ('Spain', 22), ('Japan', 15), ('China', 13), ('Hong Kong', 13), ('New Zealand', 11), ('Italy', 11), ('Mexico', 10), ('Denmark', 9), ('South Korea', 8), ('Ireland', 7), ('India', 5), ('Brazil', 5), ('Thailand', 4), ('Iran', 4), ('Norway', 4), ('Czech Republic', 3), ('South Africa', 3), ('Netherlands', 3), ('Russia', 3), ('Argentina', 3), ('Romania', 2), ('Hungary', 2), ('Taiwan', 2), ('Israel', 2), ('New Line', 1), ('Peru', 1), ('Aruba', 1), ('Chile', 1), ('Belgium', 1), ('Greece', 1), ('Official site', 1), ('West Germany', 1), ('Georgia', 1), ('Finland', 1), ('Iceland', 1), ('Colombia', 1), ('Poland', 1), ('Indonesia', 1), ('Afghanistan', 1), ('Philippines', 1)]\n"
     ]
    }
   ],
   "source": [
    "print(Counter(data[\"country\"]).most_common())"
   ]
  },
  {
   "cell_type": "markdown",
   "metadata": {},
   "source": [
    "Majority of movies come from USA (79%) and UK (8%), the rest 13% comes from other countries. Therefore, we will group other countries together to make this columns have less catergories. In the same time, we will replace their text values with numerical values as following:\n",
    "- Other: 0\n",
    "- USA: 1\n",
    "- UK: 2"
   ]
  },
  {
   "cell_type": "code",
   "execution_count": 27,
   "metadata": {},
   "outputs": [],
   "source": [
    "data[\"country\"] = data[\"country\"].replace({\"USA\": 1, \"UK\": 2})\n",
    "data[\"country\"] = data[\"country\"].apply(lambda x: 0 if x != 1 and x != 2 else x)"
   ]
  },
  {
   "cell_type": "markdown",
   "metadata": {},
   "source": [
    "Before, we were dealing with variables have the most missing values \"aspect_ratio\",\"content_rating\" and \"plot_keywords\". However, there are remained missing values that we need to handle in our dataset. "
   ]
  },
  {
   "cell_type": "code",
   "execution_count": 28,
   "metadata": {},
   "outputs": [
    {
     "data": {
      "text/plain": [
       "facenumber_in_poster         6\n",
       "actor_3_facebook_likes       6\n",
       "actor_2_facebook_likes       2\n",
       "actor_1_facebook_likes       1\n",
       "num_critic_for_reviews       1\n",
       "content_rating               0\n",
       "country                      0\n",
       "num_user_for_reviews         0\n",
       "imdb_score                   0\n",
       "cast_total_facebook_likes    0\n",
       "num_voted_users              0\n",
       "gross                        0\n",
       "budget                       0\n",
       "title_year                   0\n",
       "director_facebook_likes      0\n",
       "duration                     0\n",
       "movie_facebook_likes         0\n",
       "dtype: int64"
      ]
     },
     "execution_count": 28,
     "metadata": {},
     "output_type": "execute_result"
    }
   ],
   "source": [
    "data.isnull().sum(axis = 0).sort_values(ascending=False)"
   ]
  },
  {
   "cell_type": "markdown",
   "metadata": {},
   "source": [
    "Furthermore, there are 0s value that should be treated as missing value except for \"facenumber_in_poster\", \"country\", and \"content_rating\". These columns contain numerical value with no negative value, therefore we can use sorted() and Counter() to find how many cells with 0 value in each column."
   ]
  },
  {
   "cell_type": "code",
   "execution_count": 29,
   "metadata": {},
   "outputs": [
    {
     "data": {
      "text/plain": [
       "{'num_critic_for_reviews': 0,\n",
       " 'duration': 0,\n",
       " 'director_facebook_likes': 657,\n",
       " 'actor_3_facebook_likes': 30,\n",
       " 'actor_1_facebook_likes': 4,\n",
       " 'gross': 0,\n",
       " 'num_voted_users': 0,\n",
       " 'cast_total_facebook_likes': 5,\n",
       " 'num_user_for_reviews': 0,\n",
       " 'budget': 0,\n",
       " 'title_year': 0,\n",
       " 'actor_2_facebook_likes': 16,\n",
       " 'imdb_score': 0,\n",
       " 'movie_facebook_likes': 1752}"
      ]
     },
     "execution_count": 29,
     "metadata": {},
     "output_type": "execute_result"
    }
   ],
   "source": [
    "zcount = {}\n",
    "excluded_col = [\"facenumber_in_poster\", \"country\", \"content_rating\"]\n",
    "for column in data.columns:\n",
    "    if column not in excluded_col:\n",
    "        zcount[column] = (Counter(sorted(data[column]))[0])\n",
    "zcount"
   ]
  },
  {
   "cell_type": "markdown",
   "metadata": {},
   "source": [
    "We will handle both missing values and 0s at the same time by replace all missing value with 0 and then fill 0s with mean of each column"
   ]
  },
  {
   "cell_type": "code",
   "execution_count": 30,
   "metadata": {},
   "outputs": [],
   "source": [
    "#fill missing values with 0.0\n",
    "data = data.fillna(0.0)\n",
    "#take the list of columns that have 0s\n",
    "temp = []\n",
    "for key in zcount.keys():\n",
    "    if zcount[key] != 0:\n",
    "        temp.append(key)\n",
    "#replace 0s with mean of columns\n",
    "for col in temp:\n",
    "    data[col] = data[col].replace({0.0:data[col].mean()})"
   ]
  },
  {
   "cell_type": "markdown",
   "metadata": {},
   "source": [
    "    5. Remove highly correlated variables"
   ]
  },
  {
   "cell_type": "code",
   "execution_count": 31,
   "metadata": {},
   "outputs": [
    {
     "data": {
      "image/png": "[encoded data removed]",
      "text/plain": [
       "<Figure size 432x288 with 2 Axes>"
      ]
     },
     "metadata": {
      "needs_background": "light"
     },
     "output_type": "display_data"
    }
   ],
   "source": [
    "corr = data.corr()\n",
    "ax = sns.heatmap(\n",
    "    corr, \n",
    "    vmin=-1, vmax=1, center=0,\n",
    "    cmap=sns.diverging_palette(20, 220, n=200),\n",
    "    square=True\n",
    ")\n",
    "ax.set_xticklabels(\n",
    "    ax.get_xticklabels(),\n",
    "    rotation=45,\n",
    "    horizontalalignment='right'\n",
    ");"
   ]
  },
  {
   "cell_type": "markdown",
   "metadata": {},
   "source": [
    "Based on the heatmap, we can see some high correlations:\n",
    "- \"actor_1_facebook_like\" is highly correlated with the \"cast_total_facebook_likes\"\n",
    "- both \"actor_2_facebook_like\" and \"actor_3_facebook_like\" are also correlated to the \"cast_total_facebook_likes\"\n",
    "\n",
    "Therefore, we will modify these columns into: \"actor_1_facebook_like\" and \"other_actors_facebook_like\" and remove other columns."
   ]
  },
  {
   "cell_type": "code",
   "execution_count": 32,
   "metadata": {},
   "outputs": [],
   "source": [
    "data[\"other_actor_facebook_likes\"] = data[\"actor_3_facebook_likes\"] + data[\"actor_2_facebook_likes\"]"
   ]
  },
  {
   "cell_type": "markdown",
   "metadata": {},
   "source": [
    "There are also high correlation between \"num_critic_for_reviews\" and \"num_user_for_reviews\". We will take the ratio of these variable and remove them."
   ]
  },
  {
   "cell_type": "code",
   "execution_count": 33,
   "metadata": {},
   "outputs": [],
   "source": [
    "data[\"review_ratio\"] = data[\"num_critic_for_reviews\"] / data[\"num_user_for_reviews\"]"
   ]
  },
  {
   "cell_type": "markdown",
   "metadata": {},
   "source": [
    "Let's drop 4 columns: \"cast_total_facebook_likes\", \"actor_2_facebook_like\", \"actor_3_facebook_like\", \"num_critic_for_reviews\", \"num_user_for_reviews\" and see how other variable's correlation now."
   ]
  },
  {
   "cell_type": "code",
   "execution_count": 34,
   "metadata": {},
   "outputs": [
    {
     "data": {
      "image/png": "[encoded data removed]",
      "text/plain": [
       "<Figure size 432x288 with 2 Axes>"
      ]
     },
     "metadata": {
      "needs_background": "light"
     },
     "output_type": "display_data"
    }
   ],
   "source": [
    "data = data.drop([\"cast_total_facebook_likes\",\"actor_3_facebook_likes\",\n",
    "                  \"actor_2_facebook_likes\",\"num_critic_for_reviews\",\"num_user_for_reviews\"], axis = 1)\n",
    "corr = data.corr()\n",
    "ax = sns.heatmap(corr, vmin=-1, vmax=1, center=0, cmap=sns.diverging_palette(20, 220, n=200), square=True)\n",
    "ax.set_xticklabels(ax.get_xticklabels(), rotation=45, horizontalalignment='right');"
   ]
  },
  {
   "cell_type": "markdown",
   "metadata": {},
   "source": [
    "It looks better and there is no high correlation between variables now."
   ]
  },
  {
   "cell_type": "markdown",
   "metadata": {},
   "source": [
    "Let's reorganize the dataset before splitting it into train and test set. In this project, we will only examine a simple classification for IMDB score. This classification will be based on feature set to predict whether the IMDB of the movie is below or above 7. Therefore, there is 2 labels:\n",
    "- higher than 7 as 1\n",
    "- equal or below 7 as 0"
   ]
  },
  {
   "cell_type": "code",
   "execution_count": 35,
   "metadata": {},
   "outputs": [],
   "source": [
    "data[\"label\"] = data[\"imdb_score\"].apply(lambda x: 1 if x>7 else 0)\n",
    "df = data[['title_year','country','duration', 'budget','gross',\n",
    "          'review_ratio','num_voted_users','facenumber_in_poster','movie_facebook_likes',\n",
    "          'director_facebook_likes','actor_1_facebook_likes','other_actor_facebook_likes',\n",
    "          'label']]"
   ]
  },
  {
   "cell_type": "markdown",
   "metadata": {},
   "source": [
    "Our working dataset now includes 12 features columns and the last column is the label."
   ]
  },
  {
   "cell_type": "code",
   "execution_count": 36,
   "metadata": {},
   "outputs": [
    {
     "data": {
      "text/html": [
       "<div>\n",
       "<style scoped>\n",
       "    .dataframe tbody tr th:only-of-type {\n",
       "        vertical-align: middle;\n",
       "    }\n",
       "\n",
       "    .dataframe tbody tr th {\n",
       "        vertical-align: top;\n",
       "    }\n",
       "\n",
       "    .dataframe thead th {\n",
       "        text-align: right;\n",
       "    }\n",
       "</style>\n",
       "<table border=\"1\" class=\"dataframe\">\n",
       "  <thead>\n",
       "    <tr style=\"text-align: right;\">\n",
       "      <th></th>\n",
       "      <th>title_year</th>\n",
       "      <th>country</th>\n",
       "      <th>duration</th>\n",
       "      <th>budget</th>\n",
       "      <th>gross</th>\n",
       "      <th>review_ratio</th>\n",
       "      <th>num_voted_users</th>\n",
       "      <th>facenumber_in_poster</th>\n",
       "      <th>movie_facebook_likes</th>\n",
       "      <th>director_facebook_likes</th>\n",
       "      <th>actor_1_facebook_likes</th>\n",
       "      <th>other_actor_facebook_likes</th>\n",
       "      <th>label</th>\n",
       "    </tr>\n",
       "  </thead>\n",
       "  <tbody>\n",
       "    <tr>\n",
       "      <th>0</th>\n",
       "      <td>2009.0</td>\n",
       "      <td>1</td>\n",
       "      <td>178.0</td>\n",
       "      <td>237000000.0</td>\n",
       "      <td>760505847.0</td>\n",
       "      <td>0.236739</td>\n",
       "      <td>886204</td>\n",
       "      <td>0.0</td>\n",
       "      <td>33000.000000</td>\n",
       "      <td>793.408565</td>\n",
       "      <td>1000.000000</td>\n",
       "      <td>1791.000000</td>\n",
       "      <td>1</td>\n",
       "    </tr>\n",
       "    <tr>\n",
       "      <th>1</th>\n",
       "      <td>2007.0</td>\n",
       "      <td>1</td>\n",
       "      <td>169.0</td>\n",
       "      <td>300000000.0</td>\n",
       "      <td>309404152.0</td>\n",
       "      <td>0.243942</td>\n",
       "      <td>471220</td>\n",
       "      <td>0.0</td>\n",
       "      <td>9195.043615</td>\n",
       "      <td>563.000000</td>\n",
       "      <td>40000.000000</td>\n",
       "      <td>6000.000000</td>\n",
       "      <td>1</td>\n",
       "    </tr>\n",
       "    <tr>\n",
       "      <th>2</th>\n",
       "      <td>2015.0</td>\n",
       "      <td>2</td>\n",
       "      <td>148.0</td>\n",
       "      <td>245000000.0</td>\n",
       "      <td>200074175.0</td>\n",
       "      <td>0.605634</td>\n",
       "      <td>275868</td>\n",
       "      <td>1.0</td>\n",
       "      <td>85000.000000</td>\n",
       "      <td>793.408565</td>\n",
       "      <td>11000.000000</td>\n",
       "      <td>554.000000</td>\n",
       "      <td>0</td>\n",
       "    </tr>\n",
       "    <tr>\n",
       "      <th>3</th>\n",
       "      <td>2012.0</td>\n",
       "      <td>1</td>\n",
       "      <td>164.0</td>\n",
       "      <td>250000000.0</td>\n",
       "      <td>448130642.0</td>\n",
       "      <td>0.301000</td>\n",
       "      <td>1144337</td>\n",
       "      <td>0.0</td>\n",
       "      <td>164000.000000</td>\n",
       "      <td>22000.000000</td>\n",
       "      <td>27000.000000</td>\n",
       "      <td>46000.000000</td>\n",
       "      <td>1</td>\n",
       "    </tr>\n",
       "    <tr>\n",
       "      <th>4</th>\n",
       "      <td>2012.0</td>\n",
       "      <td>1</td>\n",
       "      <td>132.0</td>\n",
       "      <td>263700000.0</td>\n",
       "      <td>73058679.0</td>\n",
       "      <td>0.626016</td>\n",
       "      <td>212204</td>\n",
       "      <td>1.0</td>\n",
       "      <td>24000.000000</td>\n",
       "      <td>475.000000</td>\n",
       "      <td>640.000000</td>\n",
       "      <td>1162.000000</td>\n",
       "      <td>0</td>\n",
       "    </tr>\n",
       "    <tr>\n",
       "      <th>...</th>\n",
       "      <td>...</td>\n",
       "      <td>...</td>\n",
       "      <td>...</td>\n",
       "      <td>...</td>\n",
       "      <td>...</td>\n",
       "      <td>...</td>\n",
       "      <td>...</td>\n",
       "      <td>...</td>\n",
       "      <td>...</td>\n",
       "      <td>...</td>\n",
       "      <td>...</td>\n",
       "      <td>...</td>\n",
       "      <td>...</td>\n",
       "    </tr>\n",
       "    <tr>\n",
       "      <th>3801</th>\n",
       "      <td>2004.0</td>\n",
       "      <td>1</td>\n",
       "      <td>77.0</td>\n",
       "      <td>7000.0</td>\n",
       "      <td>424760.0</td>\n",
       "      <td>0.385445</td>\n",
       "      <td>72639</td>\n",
       "      <td>0.0</td>\n",
       "      <td>19000.000000</td>\n",
       "      <td>291.000000</td>\n",
       "      <td>291.000000</td>\n",
       "      <td>53.000000</td>\n",
       "      <td>0</td>\n",
       "    </tr>\n",
       "    <tr>\n",
       "      <th>3802</th>\n",
       "      <td>2005.0</td>\n",
       "      <td>0</td>\n",
       "      <td>80.0</td>\n",
       "      <td>7000.0</td>\n",
       "      <td>70071.0</td>\n",
       "      <td>1.000000</td>\n",
       "      <td>589</td>\n",
       "      <td>0.0</td>\n",
       "      <td>74.000000</td>\n",
       "      <td>793.408565</td>\n",
       "      <td>7640.344982</td>\n",
       "      <td>2731.580137</td>\n",
       "      <td>0</td>\n",
       "    </tr>\n",
       "    <tr>\n",
       "      <th>3803</th>\n",
       "      <td>1992.0</td>\n",
       "      <td>1</td>\n",
       "      <td>81.0</td>\n",
       "      <td>7000.0</td>\n",
       "      <td>2040920.0</td>\n",
       "      <td>0.430769</td>\n",
       "      <td>52055</td>\n",
       "      <td>0.0</td>\n",
       "      <td>9195.043615</td>\n",
       "      <td>793.408565</td>\n",
       "      <td>121.000000</td>\n",
       "      <td>26.000000</td>\n",
       "      <td>0</td>\n",
       "    </tr>\n",
       "    <tr>\n",
       "      <th>3804</th>\n",
       "      <td>2011.0</td>\n",
       "      <td>1</td>\n",
       "      <td>95.0</td>\n",
       "      <td>9000.0</td>\n",
       "      <td>4584.0</td>\n",
       "      <td>1.000000</td>\n",
       "      <td>1338</td>\n",
       "      <td>1.0</td>\n",
       "      <td>413.000000</td>\n",
       "      <td>793.408565</td>\n",
       "      <td>296.000000</td>\n",
       "      <td>338.000000</td>\n",
       "      <td>0</td>\n",
       "    </tr>\n",
       "    <tr>\n",
       "      <th>3805</th>\n",
       "      <td>2004.0</td>\n",
       "      <td>1</td>\n",
       "      <td>90.0</td>\n",
       "      <td>1100.0</td>\n",
       "      <td>85222.0</td>\n",
       "      <td>0.511905</td>\n",
       "      <td>4285</td>\n",
       "      <td>0.0</td>\n",
       "      <td>456.000000</td>\n",
       "      <td>16.000000</td>\n",
       "      <td>86.000000</td>\n",
       "      <td>39.000000</td>\n",
       "      <td>0</td>\n",
       "    </tr>\n",
       "  </tbody>\n",
       "</table>\n",
       "<p>3806 rows × 13 columns</p>\n",
       "</div>"
      ],
      "text/plain": [
       "      title_year  country  duration       budget        gross  review_ratio  \\\n",
       "0         2009.0        1     178.0  237000000.0  760505847.0      0.236739   \n",
       "1         2007.0        1     169.0  300000000.0  309404152.0      0.243942   \n",
       "2         2015.0        2     148.0  245000000.0  200074175.0      0.605634   \n",
       "3         2012.0        1     164.0  250000000.0  448130642.0      0.301000   \n",
       "4         2012.0        1     132.0  263700000.0   73058679.0      0.626016   \n",
       "...          ...      ...       ...          ...          ...           ...   \n",
       "3801      2004.0        1      77.0       7000.0     424760.0      0.385445   \n",
       "3802      2005.0        0      80.0       7000.0      70071.0      1.000000   \n",
       "3803      1992.0        1      81.0       7000.0    2040920.0      0.430769   \n",
       "3804      2011.0        1      95.0       9000.0       4584.0      1.000000   \n",
       "3805      2004.0        1      90.0       1100.0      85222.0      0.511905   \n",
       "\n",
       "      num_voted_users  facenumber_in_poster  movie_facebook_likes  \\\n",
       "0              886204                   0.0          33000.000000   \n",
       "1              471220                   0.0           9195.043615   \n",
       "2              275868                   1.0          85000.000000   \n",
       "3             1144337                   0.0         164000.000000   \n",
       "4              212204                   1.0          24000.000000   \n",
       "...               ...                   ...                   ...   \n",
       "3801            72639                   0.0          19000.000000   \n",
       "3802              589                   0.0             74.000000   \n",
       "3803            52055                   0.0           9195.043615   \n",
       "3804             1338                   1.0            413.000000   \n",
       "3805             4285                   0.0            456.000000   \n",
       "\n",
       "      director_facebook_likes  actor_1_facebook_likes  \\\n",
       "0                  793.408565             1000.000000   \n",
       "1                  563.000000            40000.000000   \n",
       "2                  793.408565            11000.000000   \n",
       "3                22000.000000            27000.000000   \n",
       "4                  475.000000              640.000000   \n",
       "...                       ...                     ...   \n",
       "3801               291.000000              291.000000   \n",
       "3802               793.408565             7640.344982   \n",
       "3803               793.408565              121.000000   \n",
       "3804               793.408565              296.000000   \n",
       "3805                16.000000               86.000000   \n",
       "\n",
       "      other_actor_facebook_likes  label  \n",
       "0                    1791.000000      1  \n",
       "1                    6000.000000      1  \n",
       "2                     554.000000      0  \n",
       "3                   46000.000000      1  \n",
       "4                    1162.000000      0  \n",
       "...                          ...    ...  \n",
       "3801                   53.000000      0  \n",
       "3802                 2731.580137      0  \n",
       "3803                   26.000000      0  \n",
       "3804                  338.000000      0  \n",
       "3805                   39.000000      0  \n",
       "\n",
       "[3806 rows x 13 columns]"
      ]
     },
     "execution_count": 36,
     "metadata": {},
     "output_type": "execute_result"
    }
   ],
   "source": [
    "df"
   ]
  },
  {
   "cell_type": "markdown",
   "metadata": {},
   "source": [
    "    6. Splitting dataset into training and testing set\n",
    "In order to make the model training and test less sensitive to the scale of feature, we will normalize the data into range of 0,1."
   ]
  },
  {
   "cell_type": "code",
   "execution_count": 37,
   "metadata": {},
   "outputs": [],
   "source": [
    "#Make feature and label data\n",
    "feature = df.iloc[:,:len(df.columns)-1].values\n",
    "label = df[\"label\"].values\n",
    "#Normalizing the feature data\n",
    "scaler = MinMaxScaler()\n",
    "X = scaler.fit_transform(feature)\n",
    "y = label\n",
    "#split dataset into training and testing set\n",
    "x_train, x_test, y_train, y_test = train_test_split(X, y, train_size = 0.8, test_size = 0.2, random_state = 5)"
   ]
  },
  {
   "cell_type": "markdown",
   "metadata": {},
   "source": [
    "II. Implement model\n",
    "    1. Linear Classification"
   ]
  },
  {
   "cell_type": "code",
   "execution_count": 38,
   "metadata": {},
   "outputs": [
    {
     "name": "stdout",
     "output_type": "stream",
     "text": [
      "Score of model is 0.7913385826771654\n"
     ]
    }
   ],
   "source": [
    "from sklearn.discriminant_analysis import LinearDiscriminantAnalysis\n",
    "#create a result list to store all the model's score\n",
    "result = []\n",
    "\n",
    "classifier = LinearDiscriminantAnalysis()\n",
    "classifier.fit(x_train, y_train)\n",
    "print(f'Score of model is {classifier.score(x_test, y_test)}')\n",
    "result.append(classifier.score(x_test, y_test))"
   ]
  },
  {
   "cell_type": "markdown",
   "metadata": {},
   "source": [
    "    2. K-Nearest Neighbors\n",
    "In order to find the best K we will need to loop through a range of 100 and plot the score of model."
   ]
  },
  {
   "cell_type": "code",
   "execution_count": 39,
   "metadata": {},
   "outputs": [
    {
     "name": "stdout",
     "output_type": "stream",
     "text": [
      "The best score of model is with k = 46 and score = 0.7926509186351706\n"
     ]
    },
    {
     "data": {
      "image/png": "[encoded data removed]",
      "text/plain": [
       "<Figure size 432x288 with 1 Axes>"
      ]
     },
     "metadata": {
      "needs_background": "light"
     },
     "output_type": "display_data"
    }
   ],
   "source": [
    "score = []\n",
    "for k in range(1, 100):\n",
    "    classifier = KNeighborsClassifier(n_neighbors = k, weights = \"distance\")\n",
    "    classifier.fit(x_train, y_train)\n",
    "    score.append(classifier.score(x_test, y_test))\n",
    "print(f'The best score of model is with k = {score.index(max(score))} and score = {max(score)}')\n",
    "plt.plot(range(1,100), score)\n",
    "plt.show()\n",
    "result.append(max(score))"
   ]
  },
  {
   "cell_type": "markdown",
   "metadata": {},
   "source": [
    "    3. Logistic Classification"
   ]
  },
  {
   "cell_type": "code",
   "execution_count": 40,
   "metadata": {},
   "outputs": [
    {
     "name": "stdout",
     "output_type": "stream",
     "text": [
      "Score of model is 0.7834645669291339\n"
     ]
    }
   ],
   "source": [
    "classifier = LogisticRegression()\n",
    "classifier.fit(x_train, y_train)\n",
    "print(f'Score of model is {classifier.score(x_test, y_test)}')\n",
    "result.append(classifier.score(x_test, y_test))"
   ]
  },
  {
   "cell_type": "markdown",
   "metadata": {},
   "source": [
    "    4. Support-Vector Classification"
   ]
  },
  {
   "cell_type": "code",
   "execution_count": 41,
   "metadata": {},
   "outputs": [
    {
     "name": "stdout",
     "output_type": "stream",
     "text": [
      "Score of model is 0.7821522309711286\n"
     ]
    }
   ],
   "source": [
    "from sklearn.svm import SVC\n",
    "\n",
    "classifier = SVC()\n",
    "classifier.fit(x_train, y_train)\n",
    "print(f'Score of model is {classifier.score(x_test, y_test)}')\n",
    "result.append(classifier.score(x_test, y_test))"
   ]
  },
  {
   "cell_type": "markdown",
   "metadata": {},
   "source": [
    "    5. Decision Tree Classification"
   ]
  },
  {
   "cell_type": "code",
   "execution_count": 42,
   "metadata": {},
   "outputs": [
    {
     "name": "stdout",
     "output_type": "stream",
     "text": [
      "Score of model is 0.7664041994750657\n"
     ]
    }
   ],
   "source": [
    "from sklearn.tree import DecisionTreeClassifier\n",
    "\n",
    "tree_model = DecisionTreeClassifier()\n",
    "tree_model.fit(x_train, y_train)\n",
    "print(f'Score of model is {tree_model.score(x_test, y_test)}')\n",
    "result.append(tree_model.score(x_test, y_test))"
   ]
  },
  {
   "cell_type": "markdown",
   "metadata": {},
   "source": [
    "    6. Random Forest Classification\n",
    "With Random Forest Classification, in order to find the best parameters we need help from GridSearchCV"
   ]
  },
  {
   "cell_type": "code",
   "execution_count": 43,
   "metadata": {},
   "outputs": [
    {
     "data": {
      "text/plain": [
       "{'criterion': 'entropy',\n",
       " 'max_depth': 200,\n",
       " 'min_samples_split': 100,\n",
       " 'n_estimators': 200}"
      ]
     },
     "execution_count": 43,
     "metadata": {},
     "output_type": "execute_result"
    }
   ],
   "source": [
    "from sklearn.model_selection import GridSearchCV\n",
    "from sklearn.ensemble import RandomForestClassifier\n",
    "\n",
    "parameters = {\"n_estimators\":(100, 200, 300, 400), \"criterion\":(\"gini\", \"entropy\"), \n",
    "              \"max_depth\":(100,200,300), \"min_samples_split\":(100,200)}\n",
    "classifier= RandomForestClassifier()\n",
    "model = GridSearchCV(classifier, parameters)\n",
    "model.fit(x_train, y_train)\n",
    "model.best_params_"
   ]
  },
  {
   "cell_type": "markdown",
   "metadata": {},
   "source": [
    "Using these parameters to fit in our Random Forest Classification"
   ]
  },
  {
   "cell_type": "code",
   "execution_count": 44,
   "metadata": {},
   "outputs": [
    {
     "name": "stdout",
     "output_type": "stream",
     "text": [
      "Score of model is 0.8188976377952756\n"
     ]
    }
   ],
   "source": [
    "classifier= RandomForestClassifier(criterion = \"entropy\", max_depth=300, min_samples_split = 100)\n",
    "classifier.fit(x_train, y_train)\n",
    "print(f'Score of model is {classifier.score(x_test, y_test)}')\n",
    "result.append(classifier.score(x_test, y_test))"
   ]
  },
  {
   "cell_type": "markdown",
   "metadata": {},
   "source": [
    "III. Conclusion\n",
    "Accuracy of each classification model is sumarized in below table."
   ]
  },
  {
   "cell_type": "code",
   "execution_count": 45,
   "metadata": {},
   "outputs": [
    {
     "data": {
      "text/html": [
       "<div>\n",
       "<style scoped>\n",
       "    .dataframe tbody tr th:only-of-type {\n",
       "        vertical-align: middle;\n",
       "    }\n",
       "\n",
       "    .dataframe tbody tr th {\n",
       "        vertical-align: top;\n",
       "    }\n",
       "\n",
       "    .dataframe thead th {\n",
       "        text-align: right;\n",
       "    }\n",
       "</style>\n",
       "<table border=\"1\" class=\"dataframe\">\n",
       "  <thead>\n",
       "    <tr style=\"text-align: right;\">\n",
       "      <th></th>\n",
       "      <th>score</th>\n",
       "    </tr>\n",
       "  </thead>\n",
       "  <tbody>\n",
       "    <tr>\n",
       "      <th>Linear Classification</th>\n",
       "      <td>0.791339</td>\n",
       "    </tr>\n",
       "    <tr>\n",
       "      <th>K-Nearest Neighbors</th>\n",
       "      <td>0.792651</td>\n",
       "    </tr>\n",
       "    <tr>\n",
       "      <th>Logistic Classification</th>\n",
       "      <td>0.783465</td>\n",
       "    </tr>\n",
       "    <tr>\n",
       "      <th>Support-Vector Classification</th>\n",
       "      <td>0.782152</td>\n",
       "    </tr>\n",
       "    <tr>\n",
       "      <th>Decision Tree Classification</th>\n",
       "      <td>0.766404</td>\n",
       "    </tr>\n",
       "    <tr>\n",
       "      <th>Random Forest Classification</th>\n",
       "      <td>0.818898</td>\n",
       "    </tr>\n",
       "  </tbody>\n",
       "</table>\n",
       "</div>"
      ],
      "text/plain": [
       "                                  score\n",
       "Linear Classification          0.791339\n",
       "K-Nearest Neighbors            0.792651\n",
       "Logistic Classification        0.783465\n",
       "Support-Vector Classification  0.782152\n",
       "Decision Tree Classification   0.766404\n",
       "Random Forest Classification   0.818898"
      ]
     },
     "execution_count": 45,
     "metadata": {},
     "output_type": "execute_result"
    }
   ],
   "source": [
    "model_list = [\"Linear Classification\", \"K-Nearest Neighbors\", \"Logistic Classification\",\"Support-Vector Classification\",\"Decision Tree Classification\", \"Random Forest Classification\"]\n",
    "conclusion = pd.DataFrame(result, index = [model_list], columns = [\"score\"])\n",
    "conclusion"
   ]
  },
  {
   "cell_type": "markdown",
   "metadata": {},
   "source": [
    "The most accuracy is Random Forest Classification with score of 0.81. Other classification models have the range of accuracy from 0.75 to 0.79 which is acceptable and reasonable. However, this project is only a simple classification case which need extend and approach further in the future."
   ]
  }
 ],
 "metadata": {
  "kernelspec": {
   "display_name": "Python 3",
   "language": "python",
   "name": "python3"
  },
  "language_info": {
   "codemirror_mode": {
    "name": "ipython",
    "version": 3
   },
   "file_extension": ".py",
   "mimetype": "text/x-python",
   "name": "python",
   "nbconvert_exporter": "python",
   "pygments_lexer": "ipython3",
   "version": "3.7.6"
  }
 },
 "nbformat": 4,
 "nbformat_minor": 4
}
